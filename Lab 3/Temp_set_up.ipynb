{
 "cells": [
  {
   "cell_type": "code",
   "execution_count": 1,
   "metadata": {
    "scrolled": true
   },
   "outputs": [],
   "source": [
    "import arcpy\n",
    "import requests\n",
    "import json\n",
    "import datetime\n",
    "import os\n",
    "import io\n",
    "import zipfile\n",
    "import shapefile\n",
    "from shapely.geometry import Point, shape\n",
    "from shapely import geometry\n",
    "import numpy as np\n",
    "import psycopg2\n",
    "import pandas as pd\n",
    "import fiona\n",
    "from fiona.crs import from_epsg\n",
    "from osgeo import gdal"
   ]
  },
  {
   "cell_type": "code",
   "execution_count": 2,
   "metadata": {
    "scrolled": true
   },
   "outputs": [],
   "source": [
    "# Set workspace\n",
    "os.chdir(r'E:\\ArcGIS_2\\Lab3')\n",
    "wksp = os.getcwd()"
   ]
  },
  {
   "cell_type": "markdown",
   "metadata": {},
   "source": [
    "# 1. TEMPERATURE"
   ]
  },
  {
   "cell_type": "markdown",
   "metadata": {},
   "source": [
    "### Pull weather information"
   ]
  },
  {
   "cell_type": "code",
   "execution_count": 3,
   "metadata": {},
   "outputs": [],
   "source": [
    "# Get the 153 weather stations of the Minnesota network selecting a random day\n",
    "link = r'https://mesonet.agron.iastate.edu/api/1/daily.geojson?date=2023-03-15&network=MN_RWIS'\n",
    "info = json.loads(requests.get(link).text)\n",
    "location = []\n",
    "for i in range(len(info['features'])):\n",
    "    # Store the station and its coordinates\n",
    "    location.append({'station': info['features'][i]['properties']['station'], \n",
    "                     'coordinates': info['features'][i]['geometry']['coordinates']})"
   ]
  },
  {
   "cell_type": "code",
   "execution_count": 4,
   "metadata": {
    "scrolled": true
   },
   "outputs": [],
   "source": [
    "# Daily weather data from 2023\n",
    "url = r'https://mesonet.agron.iastate.edu/api/1/daily.geojson?network=MN_RWIS&year=2023'\n",
    "weather = json.loads(requests.get(url).text)"
   ]
  },
  {
   "cell_type": "code",
   "execution_count": 5,
   "metadata": {
    "scrolled": true
   },
   "outputs": [],
   "source": [
    "# Delete all the unneeded weather variables and keep only minimum and maximum temperature\n",
    "delete = [\n",
    "      \"tmpf_est\",\n",
    "      \"precip\",\n",
    "      \"precip_est\",\n",
    "      \"max_gust\",\n",
    "      \"snow\",\n",
    "      \"snowd\",\n",
    "      \"min_rh\",\n",
    "      \"max_rh\",\n",
    "      \"min_dwpf\",\n",
    "      \"max_dwpf\",\n",
    "      \"min_feel\",\n",
    "      \"max_feel\",\n",
    "      \"min_rstage\",\n",
    "      \"max_rstage\",\n",
    "      \"temp_hour\",\n",
    "      \"max_gust_localts\",\n",
    "      \"max_drct\",\n",
    "      \"avg_feel\", \n",
    "      \"avg_sknt\", \n",
    "      \"vector_avg_drct\", \n",
    "      \"id\"\n",
    "]\n",
    "\n",
    "for i in range(len(weather['features'])):\n",
    "    for key in delete:\n",
    "        del weather['features'][i]['properties'][key]"
   ]
  },
  {
   "cell_type": "markdown",
   "metadata": {},
   "source": [
    "### Pull Minnesota boundary from MGC"
   ]
  },
  {
   "cell_type": "code",
   "execution_count": 6,
   "metadata": {
    "scrolled": true
   },
   "outputs": [
    {
     "data": {
      "text/html": [
       "<div class='gpresult'><h2>Messages</h2><div id='messages' data-messages='[\"Start Time: Wednesday, April 5, 2023 5:08:01 PM\",\"Succeeded at Wednesday, April 5, 2023 5:08:01 PM (Elapsed Time: 0.58 seconds)\"]' data-show='true'><div id = 'default' /></div></div>"
      ],
      "text/plain": [
       "<Result 'E:\\\\ArcGIS_2\\\\Lab3\\\\minnesota.shp'>"
      ]
     },
     "execution_count": 6,
     "metadata": {},
     "output_type": "execute_result"
    }
   ],
   "source": [
    "# MN boundary\n",
    "mn_url = \"https://resources.gisdata.mn.gov/pub/gdrs/data/pub/us_mn_state_dot/bdry_state/shp_bdry_state.zip\"\n",
    "boundaries = requests.post(mn_url)\n",
    "zipfile.ZipFile(io.BytesIO(boundaries.content)).extractall(wksp)\n",
    "\n",
    "# Project shp\n",
    "sr = arcpy.SpatialReference(4326)\n",
    "arcpy.Project_management('Boundaries_of_Minnesota.shp', 'minnesota.shp', sr)"
   ]
  },
  {
   "cell_type": "markdown",
   "metadata": {},
   "source": [
    "### QA"
   ]
  },
  {
   "cell_type": "code",
   "execution_count": 7,
   "metadata": {},
   "outputs": [],
   "source": [
    "# Read in the shapefile data for Minnesota\n",
    "sf = shapefile.Reader(\"minnesota.shp\")\n",
    "shapes = sf.shapes()\n",
    "state_border = shapes[0]\n",
    "\n",
    "# Create a shapely Polygon object from the state border shape\n",
    "border_polygon = shape(state_border)\n",
    "\n",
    "# Create an empty list to add the not useful readings\n",
    "wrong = []\n",
    "\n",
    "# Add all the not useful readings to a list\n",
    "for i in range(len(weather['features'])):\n",
    "    \n",
    "    # Readings whose temp readings are None\n",
    "    if weather['features'][i]['properties']['min_tmpf'] == None or weather['features'][i]['properties']['max_tmpf'] == None:\n",
    "        wrong.append(weather['features'][i])\n",
    "        continue\n",
    "    \n",
    "    # Stations outside of Minnesota\n",
    "    point = Point(weather['features'][i]['geometry']['coordinates'])\n",
    "    if not border_polygon.contains(point):\n",
    "        wrong.append(weather['features'][i])\n",
    "        continue\n",
    "        \n",
    "    # Readings whose min and max temp are the same. This is an indicator of wrong data\n",
    "    if weather['features'][i]['properties']['min_tmpf'] == weather['features'][i]['properties']['max_tmpf']:\n",
    "        wrong.append(weather['features'][i])\n",
    "        continue\n",
    "        \n",
    "    # Readings whose temp is outside of the optimum range\n",
    "    lower_limit = math.floor(weather['features'][i]['properties']['min_tmpf'])\n",
    "    upper_limit = math.ceil(weather['features'][i]['properties']['max_tmpf'])\n",
    "    range_temp = range(lower_limit, upper_limit)\n",
    "    \n",
    "    # Readings not representative of the broader region if max and min temp are similar\n",
    "    if len(range_temp) == 1:\n",
    "        wrong.append(weather['features'][i]) \n",
    "        continue\n",
    "    \n",
    "# Delete the not useful readings \n",
    "for element in wrong:\n",
    "    weather['features'].remove(element)"
   ]
  },
  {
   "cell_type": "markdown",
   "metadata": {},
   "source": [
    "### Monthly average temperature"
   ]
  },
  {
   "cell_type": "code",
   "execution_count": 8,
   "metadata": {},
   "outputs": [
    {
     "name": "stderr",
     "output_type": "stream",
     "text": [
      "[8]:9: SettingWithCopyWarning: \n",
      "A value is trying to be set on a copy of a slice from a DataFrame\n",
      "\n",
      "See the caveats in the documentation: https://pandas.pydata.org/pandas-docs/stable/user_guide/indexing.html#returning-a-view-versus-a-copy\n"
     ]
    }
   ],
   "source": [
    "stations = []\n",
    "# Add the dictionaries to a data frame\n",
    "for j in range(len(weather['features'])):\n",
    "    stations.append(weather['features'][j]['properties'])\n",
    "df = pd.DataFrame.from_dict(stations)\n",
    "\n",
    "# Remove the day part from the date leaving only year and month\n",
    "for i in range(len(df['date'])):\n",
    "    df['date'][i] = df['date'][i][:7]\n",
    "    \n",
    "# Get monthly average min and max temperature for each station\n",
    "grouped = df.groupby(['station', 'date', 'name']).agg('mean')\n",
    "grouped.reset_index(inplace=True)\n",
    "\n",
    "# Return data to a dictionary\n",
    "mean = grouped.to_dict('records')"
   ]
  },
  {
   "cell_type": "code",
   "execution_count": 9,
   "metadata": {},
   "outputs": [],
   "source": [
    "## Add the geometry to the stations\n",
    "mean_tmp = []\n",
    "for i in range(len(mean)):\n",
    "    for j in range(len(location)):\n",
    "        if mean[i]['station'] == location[j]['station']:\n",
    "            mean_tmp.append({'type': 'Feature', 'properties': mean[i], \n",
    "                             'geometry': {'type': 'Point', 'coordinates': location[j]['coordinates']}})"
   ]
  },
  {
   "cell_type": "markdown",
   "metadata": {},
   "source": [
    "### Stations shapefile"
   ]
  },
  {
   "cell_type": "code",
   "execution_count": 11,
   "metadata": {},
   "outputs": [],
   "source": [
    "schema =  {'geometry': 'Point', 'properties': {'station': 'str', 'date': 'str', 'name': 'str', 'max_tmpf': 'float', 'min_tmpf': 'float'}}\n",
    "\n",
    "with fiona.open(\"stations.shp\", 'w', crs = from_epsg(4326), driver = 'ESRI Shapefile', schema = schema) as output:\n",
    "    for i in range(len(mean_tmp)):\n",
    "          # geometry\n",
    "          point = Point(mean_tmp[i]['geometry']['coordinates'])\n",
    "          # attributes\n",
    "          prop = mean_tmp[i]['properties']\n",
    "          # write the row (geometry + attributes in GeoJSON format)\n",
    "          output.write({'geometry': geometry.mapping(point), 'properties':prop})"
   ]
  },
  {
   "cell_type": "markdown",
   "metadata": {},
   "source": [
    "# SAVE TO POSTGIS"
   ]
  },
  {
   "cell_type": "code",
   "execution_count": 12,
   "metadata": {},
   "outputs": [],
   "source": [
    "# Connect to postgresql database\n",
    "connection = psycopg2.connect(host = '34.27.219.64',\n",
    "                              port = '5432',\n",
    "                              database = 'lab1',\n",
    "                              user = 'postgres',\n",
    "                              password = 'student',\n",
    "                             )"
   ]
  },
  {
   "cell_type": "code",
   "execution_count": 13,
   "metadata": {},
   "outputs": [],
   "source": [
    "# Path and fields of the data to load to the database\n",
    "data = os.path.join(wksp, \"stations.shp\")\n",
    "fields = [\"station\", \"date\", \"name\", \"max_tmpf\", \"min_tmpf\", \"Shape@WKT\"]\n",
    "\n",
    "# Create SQL table\n",
    "cursor = connection.cursor()\n",
    "cursor.execute(\"DROP TABLE IF EXISTS stations\")\n",
    "cursor.execute(\"\"\"\n",
    "    CREATE TABLE stations (\n",
    "        id SERIAL,\n",
    "        station VARCHAR,\n",
    "        date VARCHAR,\n",
    "        name VARCHAR,\n",
    "        max_tmpf DOUBLE PRECISION,\n",
    "        min_tmpf DOUBLE PRECISION)\n",
    "\"\"\")\n",
    "\n",
    "cursor.execute(\"\"\"\n",
    "    SELECT AddGeometryColumn('stations', 'geom', 4326, 'POINT', 2)\n",
    "\"\"\")\n",
    "\n",
    "# Populate table\n",
    "with arcpy.da.SearchCursor(data, fields) as da_cursor:\n",
    "    for row in da_cursor:\n",
    "        wkt = row[5]\n",
    "        cursor.execute(\"INSERT INTO stations (station, date, name, max_tmpf, min_tmpf, geom) VALUES (%s, %s, %s, %s, %s, ST_GeomFromText(%s, 4326))\", (row[0], row[1], row[2], row[3], row[4], wkt))\n",
    "\n",
    "connection.commit()"
   ]
  }
 ],
 "metadata": {
  "kernelspec": {
   "display_name": "ArcGISPro",
   "language": "Python",
   "name": "python3"
  },
  "language_info": {
   "file_extension": ".py",
   "name": "python",
   "version": "3"
  }
 },
 "nbformat": 4,
 "nbformat_minor": 2
}
