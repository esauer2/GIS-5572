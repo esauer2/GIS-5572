{
 "cells": [
  {
   "cell_type": "code",
   "execution_count": null,
   "metadata": {},
   "outputs": [],
   "source": [
    "from flask import Flask, jsonify \n",
    "import psycopg2\n",
    "\n",
    "app = Flask (__name__)\n",
    "\n",
    "# Connect to the PostgreSQL database\n",
    "\n",
    "conn = psycopg2.connect(\"dbname=labl_user=postgres password-student host=34.27.219.64\") \n",
    "@app.route('/', methods=['GET'])\n",
    "\n",
    "def get_geojson():\n",
    "    response = get_polygon ()\n",
    "    return response\n",
    "\n",
    "def get_polygon () :\n",
    "    # Execute a query to retrieve the polygon from the database\n",
    "    cursor = conn.cursor()\n",
    "    cursor.execute(\"SELECT ST_AsGeoJSON (geom) FROM poly;\") \n",
    "    result = cursor.fetchone ()\n",
    "\n",
    "# Return the result as a JSON object\n",
    "    if result is None:\n",
    "        return jsonify({'error': 'Polygon not found'}), 404\n",
    "    else:\n",
    "        return jsonify({'geojson': result[0]})\n",
    "\n",
    "if __name__ == \"__main__\":\n",
    "    app.run(debug=True, host='0.0.0.0', port=5000)\n",
    "\n",
    "# route only prints data to console \n",
    "@app.route('/print_data', methods=['GET'])\n",
    "def print_data():\n",
    "    print(\"**************\")\n",
    "    print(\"**************\")\n",
    "    print(request.method) # finds method \n",
    "    print(request.data) # generic get all data; covers case where you don't know what's coming\n",
    "    print(request.json) # parses json data\n",
    "    \n",
    "    \n",
    "    print(\"**************\")\n",
    "    print(\"**************\")\n",
    "    return \"Accepted 202 - post received; printed to console\""
   ]
  }
 ],
 "metadata": {
  "kernelspec": {
   "display_name": "base",
   "language": "python",
   "name": "python3"
  },
  "language_info": {
   "name": "python",
   "version": "3.9.12"
  },
  "orig_nbformat": 4,
  "vscode": {
   "interpreter": {
    "hash": "382322c1c01d6c182d0cc2d23a857bbdbc33c8845beea45b5af62d545f53a7da"
   }
  }
 },
 "nbformat": 4,
 "nbformat_minor": 2
}
