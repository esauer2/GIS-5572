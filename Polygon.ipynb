{
 "cells": [
  {
   "cell_type": "code",
   "execution_count": 1,
   "metadata": {},
   "outputs": [],
   "source": [
    "import arcpy\n",
    "import psycopg2\n",
    "import requests\n",
    "import json\n",
    "import os\n",
    "from arcgis.gis import GIS\n",
    "from arcgis.features import FeatureLayerCollection"
   ]
  },
  {
   "cell_type": "code",
   "execution_count": 2,
   "metadata": {},
   "outputs": [],
   "source": [
    "# Set environment\n",
    "arcpy.env.workspace = r'E:\\ArcGIS_2\\Lab1'\n",
    "wksp = arcpy.env.workspace"
   ]
  },
  {
   "cell_type": "code",
   "execution_count": 3,
   "metadata": {},
   "outputs": [],
   "source": [
    "# Create List of Points\n",
    "input_pts= [arcpy.Point(2, 5), arcpy.Point(6, 8), arcpy.Point(10, 20), arcpy.Point(20, 1), arcpy.Point(2, 5)]\n",
    "# Convert to Polygon\n",
    "poly = arcpy.Polygon(arcpy.Array(input_pts))"
   ]
  },
  {
   "cell_type": "code",
   "execution_count": 9,
   "metadata": {},
   "outputs": [],
   "source": [
    "# Connect to postgresql database\n",
    "# Create unique database for this lab\n",
    "# Create cursor for the table\n",
    "conection = psycopg2.connect(host = '34.27.219.64',\n",
    "                              port = '5432',\n",
    "                              database = 'lab1',\n",
    "                              user = 'postgres',\n",
    "                              password = 'student',\n",
    "                             )\n",
    "cursor = conection.cursor()\n",
    "\n",
    "# Create and populate table in the database\n",
    "# Only create if one does not exist\n",
    "# Serial key will keep track of the features, create column with geomtery of features\n",
    "# Use default spatial reference 4326,\n",
    "cursor.execute(\"CREATE TABLE IF NOT EXISTS poly (id SERIAL PRIMARY KEY, geom GEOMETRY)\")\n",
    "cursor.execute(\"INSERT INTO poly (geom) VALUES (ST_GeomFromText('{}', 4326))\".format(poly.WKT))\n",
    "# Add the information to the table\n",
    "conection.commit()\n",
    "conection.close()"
   ]
  },
  {
   "cell_type": "code",
   "execution_count": 11,
   "metadata": {},
   "outputs": [],
   "source": [
    "# Retrieve polygon from VM API\n",
    "api = r'http://34.29.175.222:5000/geojson_polygon'\n",
    "dictionary = json.loads(requests.get(api).text)\n",
    "\n",
    "# Remove one pair of brackets  \n",
    "sub = dictionary['geojson'].replace(\"[[[[\", '[[[').replace(']]]]', ']]]')\n",
    "\n",
    "# Convert string to JSON dictionary\n",
    "dictionary_2 = json.loads(sub)"
   ]
  },
  {
   "cell_type": "code",
   "execution_count": 6,
   "metadata": {},
   "outputs": [],
   "source": [
    "# Create GeoJSON dictionary\n",
    "geojson = {\n",
    "  \"type\": \"FeatureCollection\",\n",
    "  \"features\": [\n",
    "    {\n",
    "      \"type\": \"Feature\",\n",
    "      \"properties\": {},\n",
    "      \"geometry\": {\n",
    "        \"coordinates\": dictionary_2['coordinates'],\n",
    "        \"type\": \"Polygon\"\n",
    "      }\n",
    "    }\n",
    "  ]\n",
    "}\n",
    "\n",
    "# Create file with the GeoJSON dictionary\n",
    "path = os.path.join(wksp, 'geojson.json')\n",
    "with open (path, 'w') as json_file:\n",
    "    json.dump(geojson, json_file)"
   ]
  },
  {
   "cell_type": "code",
   "execution_count": 8,
   "metadata": {},
   "outputs": [],
   "source": [
    "# Sign in to ArcGIS Online\n",
    "username = ''\n",
    "password = ''\n",
    "\n",
    "gis = GIS('https://www.arcgis.com', username, password)\n",
    "\n",
    "# Publish layer onto ArcGIS Online\n",
    "item = gis.content.add({'type': 'GeoJson'}, 'geojson.json')\n",
    "feature_layer_item = item.publish()\n",
    "feature_layer_url = feature_layer_item.url"
   ]
  }
 ],
 "metadata": {
  "kernelspec": {
   "display_name": "base",
   "language": "python",
   "name": "python3"
  },
  "language_info": {
   "file_extension": ".py",
   "name": "python",
   "version": "3.9.12"
  },
  "vscode": {
   "interpreter": {
    "hash": "382322c1c01d6c182d0cc2d23a857bbdbc33c8845beea45b5af62d545f53a7da"
   }
  }
 },
 "nbformat": 4,
 "nbformat_minor": 2
}
